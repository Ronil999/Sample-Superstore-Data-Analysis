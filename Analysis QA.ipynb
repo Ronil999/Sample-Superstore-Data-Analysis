{
 "cells": [
  {
   "cell_type": "markdown",
   "metadata": {},
   "source": [
    "# Questions for Analysis\n",
    "\n",
    "1. What are the top-selling products in the dataset?\n",
    "2. Which states or regions generate the most sales and profit?\n",
    "3. Which customer segments generate the most revenue for the store?\n",
    "4. Which Region Have more Sales?\n",
    "5. Which Region given more Profit?\n",
    "6. Which Region give more Loss?"
   ]
  },
  {
   "cell_type": "markdown",
   "metadata": {},
   "source": [
    "# Answers"
   ]
  },
  {
   "cell_type": "markdown",
   "metadata": {},
   "source": [
    "1. What are the top-selling products in the dataset?  \n",
    "**Answer:** Chairs And Phones\n"
   ]
  },
  {
   "cell_type": "markdown",
   "metadata": {},
   "source": [
    "2. Which states or regions generate the most sales and profit?  \n",
    "**Answer:** West\n"
   ]
  },
  {
   "cell_type": "markdown",
   "metadata": {},
   "source": [
    "3. Which customer segments generate the most revenue for the store?  \n",
    "**Answer:** Consumer\n"
   ]
  },
  {
   "cell_type": "markdown",
   "metadata": {},
   "source": [
    "4. Which Region Have more Sales?    \n",
    "**Answer:** West\n"
   ]
  },
  {
   "cell_type": "markdown",
   "metadata": {},
   "source": [
    "5. Which Region given more Profit?      \n",
    "**Answer:** West"
   ]
  },
  {
   "cell_type": "markdown",
   "metadata": {},
   "source": [
    "6. Which Region given more Loss?          \n",
    "**Answer:** Central"
   ]
  }
 ],
 "metadata": {
  "language_info": {
   "name": "python"
  },
  "orig_nbformat": 4
 },
 "nbformat": 4,
 "nbformat_minor": 2
}
